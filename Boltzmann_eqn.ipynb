{
 "cells": [
  {
   "cell_type": "markdown",
   "metadata": {},
   "source": [
    "Below we import the necessary packages"
   ]
  },
  {
   "cell_type": "code",
   "execution_count": 60,
   "metadata": {},
   "outputs": [],
   "source": [
    "# General Packages\n",
    "import numpy as np\n",
    "from IPython.display import Image # allows to display saved images inline\n",
    "import scipy.integrate as spint\n",
    "import scipy.special as spsp\n",
    "import scipy.stats as spstat\n",
    "import matplotlib.pyplot as plt\n",
    "import time as time\n",
    "# Random package\n",
    "import random as random"
   ]
  },
  {
   "cell_type": "markdown",
   "metadata": {},
   "source": [
    "This notebook will solve the Boltzmann equations and generate the data we will learn from.\n",
    "The Boltzmann equations for a simple particle species can be compactly written as\n",
    "$$ z\\frac{\\partial Y_L}{\\partial z}=\\epsilon D\\left(\\frac{Y_1}{Y_1^{eq}}-1\\right)-Y_LW$$\n",
    "and \n",
    "$$ z\\frac{\\partial Y_1}{\\partial z}=- D\\left(\\frac{Y_1}{Y_1^{eq}}-1\\right)$$."
   ]
  },
  {
   "cell_type": "markdown",
   "metadata": {},
   "source": [
    "Where $Y_L$ is the lepton asymmetry yield which is a convenient measure of the asymmetry. $\\epsilon$ is the CP-asymmetry, and $D,W$ are functions that quantify the strength of the decay and inverse decay respectively. Finally $Y^{eq}_1$ is simply the equilibrium yield for the species '1' that generates the asymmetry.\n",
    "\n",
    "In the above equations, we ignored the scattering processes which are only subleading compared to the decays and inverse decays."
   ]
  },
  {
   "cell_type": "markdown",
   "metadata": {},
   "source": [
    "The functions $Y^{eq}_1$, $D$, and $W$ are defined as follows\n",
    "\n",
    "$$\\begin{align}&Y_1^{eq}(z)=\\frac{3}{8}z^2K_2(z),\\\\ &D(z)=Kz^2Y_1^{eq}\\frac{K_1(z)}{K_2(z)},\\\\&W(z)=D(z)/Y^{eq}_L\\\\&Y^{eq}_L=\\frac{3}{4}\\end{align}$$"
   ]
  },
  {
   "cell_type": "markdown",
   "metadata": {},
   "source": [
    "The functions are defined below,"
   ]
  },
  {
   "cell_type": "code",
   "execution_count": 27,
   "metadata": {
    "collapsed": true
   },
   "outputs": [],
   "source": [
    "def Yeq(z):\n",
    " fun=(3.0/8)*z**2*spsp.kn(2,z);\n",
    " return(fun)\n",
    "#end\n",
    "\n",
    "def D(z,K):\n",
    " fun=K*z**2*(spsp.kn(1,z)/spsp.kn(2,z))*Yeq(z);\n",
    " return(fun)\n",
    "#end"
   ]
  },
  {
   "cell_type": "code",
   "execution_count": 28,
   "metadata": {},
   "outputs": [
    {
     "name": "stdout",
     "output_type": "stream",
     "text": [
      "0.22571521132396297\n"
     ]
    }
   ],
   "source": [
    "print D(1,1)"
   ]
  },
  {
   "cell_type": "markdown",
   "metadata": {},
   "source": [
    "Below we define the constants and some intitial conditions for the differential equations."
   ]
  },
  {
   "cell_type": "code",
   "execution_count": 29,
   "metadata": {
    "collapsed": true
   },
   "outputs": [],
   "source": [
    "zmin=0.01;\n",
    "zmax=100;\n",
    "dz=0.0001;\n",
    "\n",
    "z=np.arange(zmin,zmax,dz)\n",
    "nz=len(z);\n",
    "\n",
    "Yleq=3.0*4**(-1);\n",
    "K=10;\n",
    "eps=1.0e-6;\n",
    "Y10=0.0;\n",
    "Yl0=1.0e-20;\n",
    "state0=[Y10,Yl0];"
   ]
  },
  {
   "cell_type": "code",
   "execution_count": 66,
   "metadata": {
    "collapsed": true
   },
   "outputs": [],
   "source": [
    "vec = []\n",
    "for i in xrange(nz):\n",
    "    vec.append(Yeq(z[i]))\n",
    "\n",
    "plt.figure()\n",
    "plt.plot(z,vec)\n",
    "plt.show()"
   ]
  },
  {
   "cell_type": "code",
   "execution_count": 67,
   "metadata": {},
   "outputs": [
    {
     "data": {
      "image/png": "[encoded data removed]",
      "text/plain": [
       "<IPython.core.display.Image object>"
      ]
     },
     "execution_count": 67,
     "metadata": {},
     "output_type": "execute_result"
    }
   ],
   "source": [
    "Image(filename='equilibrium.png')"
   ]
  },
  {
   "cell_type": "code",
   "execution_count": null,
   "metadata": {
    "collapsed": true
   },
   "outputs": [],
   "source": [
    "def St_Boltzmann(state,z):\n",
    " y1=state[0];\n",
    " yl=state[1];\n",
    " \n",
    " Y1d=D1(z,K)*(1-y1/Y1eq(z))/z; \n",
    " Yld=(eps*(y1/Y1eq(z)-1)-yl/(2*Yleq))*D1(z,K)/z;\n",
    "\n",
    " return(Y1d,Yld)\n",
    "#end\n",
    "\n",
    "# ODE solver parameters\n",
    "abserr = 1.0e-13\n",
    "relerr = 1.0e-13\n",
    "state=odeint(St_Boltzmann,state0,z, atol=abserr, rtol=relerr,hmax=0.0,hmin=0.0);\n",
    "\n",
    "Y1,Yl=state.T\n",
    "\n",
    "\n",
    "#figure()\n",
    "#plot=loglog(z,Y1,'b-',z,1.0e6*abs(Yl),'m',z,Y1eq(z),'k--')\n",
    "#xlim(zmin,zmax)\n",
    "#ylim(10**(-5),10)\n",
    "#title('Standard Boltzmann equations, $K_1=$ %d' % int(K))\n",
    "#show()"
   ]
  }
 ],
 "metadata": {
  "kernelspec": {
   "display_name": "Python 2",
   "language": "python",
   "name": "python2"
  },
  "language_info": {
   "codemirror_mode": {
    "name": "ipython",
    "version": 2
   },
   "file_extension": ".py",
   "mimetype": "text/x-python",
   "name": "python",
   "nbconvert_exporter": "python",
   "pygments_lexer": "ipython2",
   "version": "2.7.6"
  }
 },
 "nbformat": 4,
 "nbformat_minor": 2
}
